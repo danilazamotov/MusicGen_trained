{
 "cells": [
  {
   "cell_type": "code",
   "execution_count": 1,
   "id": "7d1055ae-449f-4852-9c48-7ef5d6d7d3b6",
   "metadata": {},
   "outputs": [
    {
     "name": "stdout",
     "output_type": "stream",
     "text": [
      "Requirement already satisfied: mutagen in c:\\users\\noname\\appdata\\local\\programs\\python\\python39\\lib\\site-packages (1.47.0)\n",
      "Requirement already satisfied: pydub in c:\\users\\noname\\appdata\\local\\programs\\python\\python39\\lib\\site-packages (0.25.1)\n"
     ]
    }
   ],
   "source": [
    "!pip install mutagen\n",
    "!pip install pydub\n",
    "!pip install shutil"
   ]
  },
  {
   "cell_type": "code",
   "execution_count": 1,
   "id": "d16f0801-21c3-44bd-a1db-80a6d6e41f22",
   "metadata": {},
   "outputs": [],
   "source": [
    "import os\n",
    "import json\n",
    "from pydub import AudioSegment\n",
    "from pydub import AudioSegment\n",
    "from mutagen.mp3 import MP3\n",
    "from mutagen.wave import WAVE\n",
    "from mutagen.easyid3 import EasyID3\n",
    "import shutil"
   ]
  },
  {
   "cell_type": "code",
   "execution_count": 2,
   "id": "7db8deb6-9adb-4b16-a4da-8a2bf6edd533",
   "metadata": {},
   "outputs": [],
   "source": [
    "def get_metadata(file_path):\n",
    "    try:\n",
    "        audio = MP3(file_path, ID3=EasyID3)\n",
    "        title = audio.get('title', [''])[0]\n",
    "        artist = audio.get('artist', [''])[0]\n",
    "        genre = audio.get('genre', [''])[0]\n",
    "        bpm = audio.get('bpm', [''])[0]\n",
    "        \n",
    "        try:\n",
    "            bpm = int(float(bpm))\n",
    "        except ValueError:\n",
    "            bpm = ''\n",
    "            \n",
    "        return title, artist, genre, bpm\n",
    "    except Exception as e:\n",
    "        print(f\"Error reading {file_path}: {e}\")\n",
    "        return '', '', '', ''"
   ]
  },
  {
   "cell_type": "code",
   "execution_count": 3,
   "id": "4de3ca72-ed6d-4fe4-b298-1217f17e83fe",
   "metadata": {},
   "outputs": [],
   "source": [
    "def copy_dataset(src_dir):\n",
    "    parent_dir = os.path.dirname(src_dir)\n",
    "    directory_name = 'dataset'\n",
    "    dest_dir = os.path.join(parent_dir, f'{directory_name}_input')\n",
    "    \n",
    "    try:\n",
    "        if not os.path.exists(dest_dir):\n",
    "            shutil.copytree(src_dir, dest_dir)\n",
    "            print(f\"Directory copied from {src_dir} to {dest_dir}\")\n",
    "        else:\n",
    "            print(f\"Directory {dest_dir} already exists\")\n",
    "    except shutil.Error as e:\n",
    "        print(f\"Error copying directory: {e}\")\n",
    "    except OSError as e:\n",
    "        print(f\"OS error: {e}\")\n",
    "\n",
    "    return dest_dir"
   ]
  },
  {
   "cell_type": "code",
   "execution_count": 4,
   "id": "bedb68d1-f683-4aa3-9593-f61202ba7f5f",
   "metadata": {},
   "outputs": [],
   "source": [
    "def process_audio_files(directory):\n",
    "    track_data = []\n",
    "    dataset_copy = copy_dataset(directory)\n",
    "    \n",
    "    parent_dir = os.path.dirname(dataset_copy)\n",
    "    fragments_dir = os.path.join(parent_dir, 'dataset_fragments')\n",
    "        \n",
    "    for subdir, dirs, files in os.walk(dataset_copy):\n",
    "        for file in files:\n",
    "            filepath = os.path.join(subdir, file)\n",
    "            file_extension = os.path.splitext(file)[1].lower()\n",
    "            \n",
    "            title, artist, genre, bpm = get_metadata(filepath)\n",
    "\n",
    "            if file_extension in ['.mp3', '.wav']:\n",
    "                try:\n",
    "                    audio = AudioSegment.from_file(filepath)\n",
    "                    data = {\n",
    "                        \"key\": \"\",\n",
    "                        \"artist\": artist,\n",
    "                        \"genre\": genre,\n",
    "                        \"sample_rate\": audio.frame_rate,\n",
    "                        \"file_extension\": file_extension[1:],\n",
    "                        \"description\": '',\n",
    "                        \"keywords\": \"\",\n",
    "                        \"duration\": int(audio.duration_seconds),\n",
    "                        \"bpm\": bpm,\n",
    "                        \"title\": title,\n",
    "                        \"name\": os.path.splitext(file)[0],\n",
    "                        \"instrument\": \"\",\n",
    "                        \"moods\": [\"\"]\n",
    "                    }\n",
    "                    original_json_path = os.path.join(subdir, os.path.splitext(file)[0] + '.json')\n",
    "                    if not os.path.exists(original_json_path):\n",
    "                        with open(original_json_path, 'w') as json_file:\n",
    "                            json.dump(data, json_file, indent=4)\n",
    "                        print(f'Original JSON file created for: {file}')\n",
    "                    else:\n",
    "                        print(f'Skipping {file} as JSON file already exists.')\n",
    " \n",
    "                    files_json = {\n",
    "                        \"filepath\": filepath,\n",
    "                        \"file_extension\": file_extension,\n",
    "                        \"fragments_dir\": fragments_dir,\n",
    "                        \"original_json_path\": original_json_path\n",
    "                        }\n",
    "                    track_data.append(files_json)\n",
    "                    \n",
    "                except Exception as e:\n",
    "                    print(f'Failed to process {file}: {e}') \n",
    "                    \n",
    "    with open('track_data.json', 'w') as f:\n",
    "        json.dump(track_data, f, indent=4)"
   ]
  },
  {
   "cell_type": "code",
   "execution_count": 19,
   "id": "9b01f8ab-c567-4e01-a323-8905fbbb6b5b",
   "metadata": {},
   "outputs": [],
   "source": [
    "def create_fragments_and_json(fragment_length_ms=15000):\n",
    "    \n",
    "    with open('track_data.json', 'r') as f:\n",
    "        track_data = json.load(f)\n",
    "    \n",
    "    for data in track_data:\n",
    "        filepath = data[\"filepath\"]\n",
    "        file_extension = data[\"file_extension\"]\n",
    "        fragments_dir = data[\"fragments_dir\"]\n",
    "        original_json_path = data[\"original_json_path\"]\n",
    "        \n",
    "        audio = AudioSegment.from_file(filepath)\n",
    "        file_base_name = os.path.splitext(os.path.basename(filepath))[0]\n",
    "        \n",
    "        with open(original_json_path, 'r') as json_file:\n",
    "            data = json.load(json_file)\n",
    "        \n",
    "        if not os.path.exists(fragments_dir):\n",
    "            os.makedirs(fragments_dir)\n",
    "            print(f'Created directory for fragments: {fragments_dir}')\n",
    "        \n",
    "        for i in range(0, len(audio), fragment_length_ms):\n",
    "            start_seconds = i // 1000\n",
    "            fragment_name = f\"{file_base_name}_fragment_{start_seconds}s{file_extension}\"\n",
    "            fragment_path = os.path.join(fragments_dir, fragment_name)\n",
    "            fragment_json_path = os.path.join(fragments_dir, os.path.splitext(fragment_name)[0] + '.json')\n",
    "\n",
    "            if not os.path.exists(fragment_path) and not os.path.exists(fragment_json_path):\n",
    "                fragment = audio[i:i + fragment_length_ms]\n",
    "                fragment.export(fragment_path, format=file_extension[1:])\n",
    "                \n",
    "                fragment_data = data.copy()\n",
    "                fragment_data['name'] = fragment_name\n",
    "                fragment_data['duration'] = int(fragment.duration_seconds)\n",
    "                \n",
    "                with open(fragment_json_path, 'w') as json_file:\n",
    "                    json.dump(fragment_data, json_file, indent=4)\n",
    "                print(f'Fragment JSON file created for: {fragment_name}')\n",
    "            else:\n",
    "                print(f'Skipping existing files for: {fragment_name}')"
   ]
  },
  {
   "cell_type": "code",
   "execution_count": null,
   "id": "980b36e1-fc6a-4c91-9551-8fa5a68f5f82",
   "metadata": {},
   "outputs": [],
   "source": [
    "# Specify the path to the root directory of the dataset\n",
    "process_audio_files(r'C:\\Users\\noname\\Desktop\\dataset_musicgen\\dataset_original')"
   ]
  },
  {
   "cell_type": "code",
   "execution_count": null,
   "id": "c0feac9a-95cb-4836-9914-4bca92119ae9",
   "metadata": {},
   "outputs": [],
   "source": [
    "# You can edit the json files of the original compositions\n",
    "# ..."
   ]
  },
  {
   "cell_type": "code",
   "execution_count": null,
   "id": "41364d53-e756-477d-a7ab-75c7f1fa2d31",
   "metadata": {},
   "outputs": [],
   "source": [
    "# Create a fragments of music/ Default: fragment_length_ms=15000 (ms)\n",
    "create_fragments_and_json()"
   ]
  }
 ],
 "metadata": {
  "kernelspec": {
   "display_name": "Python 3 (ipykernel)",
   "language": "python",
   "name": "python3"
  },
  "language_info": {
   "codemirror_mode": {
    "name": "ipython",
    "version": 3
   },
   "file_extension": ".py",
   "mimetype": "text/x-python",
   "name": "python",
   "nbconvert_exporter": "python",
   "pygments_lexer": "ipython3",
   "version": "3.9.13"
  }
 },
 "nbformat": 4,
 "nbformat_minor": 5
}
